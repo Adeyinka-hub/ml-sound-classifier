{
 "cells": [
  {
   "cell_type": "markdown",
   "metadata": {},
   "source": [
    "# Urban Sound 8K"
   ]
  },
  {
   "cell_type": "code",
   "execution_count": 4,
   "metadata": {},
   "outputs": [],
   "source": [
    "import sys\n",
    "sys.path.append('../..')\n",
    "from lib_data_preprocess import *\n",
    "%matplotlib inline\n",
    "\n",
    "DATAROOT = Path('/mnt/dataset/UrbanSound8K')\n",
    "df = pd.read_csv(DATAROOT/'metadata/UrbanSound8K.csv')\n",
    "df_train = df[~df.fold.isin([4, 5])]\n",
    "df_test  = df[df.fold.isin([4, 5])]\n",
    "\n",
    "train_files = [str(DATAROOT/'audio'/('fold%d' % (r.fold))/r.slice_file_name) for i, r in df_train.iterrows()]\n",
    "plain_y_train = [conf.label2int[r['class']] for i, r in df_train.iterrows()]\n",
    "test_files  = [str(DATAROOT/'audio'/('fold%d' % (r.fold))/r.slice_file_name) for i, r in df_test.iterrows()]\n",
    "plain_y_test = [conf.label2int[r['class']] for i, r in df_test.iterrows()]"
   ]
  },
  {
   "cell_type": "code",
   "execution_count": 5,
   "metadata": {
    "collapsed": true
   },
   "outputs": [],
   "source": [
    "XX = mels_build_multiplexed_X(conf, train_files)\n",
    "X_train, y_train = mels_demux_XX_y(XX, plain_y_train)\n",
    "XX = mels_build_multiplexed_X(conf, test_files)\n",
    "X_test, y_test = mels_demux_XX_y(XX, plain_y_test)"
   ]
  },
  {
   "cell_type": "code",
   "execution_count": 6,
   "metadata": {},
   "outputs": [
    {
     "data": {
      "text/plain": [
       "[(34030, 128, 128, 1), (34030,), (9630, 128, 128, 1), (9630,)]"
      ]
     },
     "execution_count": 6,
     "metadata": {},
     "output_type": "execute_result"
    }
   ],
   "source": [
    "np.save('X_train.npy', X_train)\n",
    "np.save('y_train.npy', y_train)\n",
    "np.save('X_test.npy', X_test)\n",
    "np.save('y_test.npy', y_test)\n",
    "[a.shape for a in [X_train, y_train, X_test, y_test]]"
   ]
  },
  {
   "cell_type": "markdown",
   "metadata": {},
   "source": [
    "## Inside this dataset"
   ]
  },
  {
   "cell_type": "code",
   "execution_count": 7,
   "metadata": {},
   "outputs": [
    {
     "data": {
      "text/html": [
       "<div>\n",
       "<style>\n",
       "    .dataframe thead tr:only-child th {\n",
       "        text-align: right;\n",
       "    }\n",
       "\n",
       "    .dataframe thead th {\n",
       "        text-align: left;\n",
       "    }\n",
       "\n",
       "    .dataframe tbody tr th {\n",
       "        vertical-align: top;\n",
       "    }\n",
       "</style>\n",
       "<table border=\"1\" class=\"dataframe\">\n",
       "  <thead>\n",
       "    <tr style=\"text-align: right;\">\n",
       "      <th></th>\n",
       "      <th>slice_file_name</th>\n",
       "      <th>fsID</th>\n",
       "      <th>start</th>\n",
       "      <th>end</th>\n",
       "      <th>salience</th>\n",
       "      <th>fold</th>\n",
       "      <th>classID</th>\n",
       "      <th>class</th>\n",
       "    </tr>\n",
       "  </thead>\n",
       "  <tbody>\n",
       "    <tr>\n",
       "      <th>9</th>\n",
       "      <td>100648-1-0-0.wav</td>\n",
       "      <td>100648</td>\n",
       "      <td>4.823402</td>\n",
       "      <td>5.471927</td>\n",
       "      <td>2</td>\n",
       "      <td>10</td>\n",
       "      <td>1</td>\n",
       "      <td>car_horn</td>\n",
       "    </tr>\n",
       "    <tr>\n",
       "      <th>10</th>\n",
       "      <td>100648-1-1-0.wav</td>\n",
       "      <td>100648</td>\n",
       "      <td>8.998279</td>\n",
       "      <td>10.052132</td>\n",
       "      <td>2</td>\n",
       "      <td>10</td>\n",
       "      <td>1</td>\n",
       "      <td>car_horn</td>\n",
       "    </tr>\n",
       "    <tr>\n",
       "      <th>11</th>\n",
       "      <td>100648-1-2-0.wav</td>\n",
       "      <td>100648</td>\n",
       "      <td>16.699509</td>\n",
       "      <td>17.104837</td>\n",
       "      <td>2</td>\n",
       "      <td>10</td>\n",
       "      <td>1</td>\n",
       "      <td>car_horn</td>\n",
       "    </tr>\n",
       "    <tr>\n",
       "      <th>12</th>\n",
       "      <td>100648-1-3-0.wav</td>\n",
       "      <td>100648</td>\n",
       "      <td>17.631764</td>\n",
       "      <td>19.253075</td>\n",
       "      <td>2</td>\n",
       "      <td>10</td>\n",
       "      <td>1</td>\n",
       "      <td>car_horn</td>\n",
       "    </tr>\n",
       "    <tr>\n",
       "      <th>13</th>\n",
       "      <td>100648-1-4-0.wav</td>\n",
       "      <td>100648</td>\n",
       "      <td>25.332994</td>\n",
       "      <td>27.197502</td>\n",
       "      <td>2</td>\n",
       "      <td>10</td>\n",
       "      <td>1</td>\n",
       "      <td>car_horn</td>\n",
       "    </tr>\n",
       "    <tr>\n",
       "      <th>14</th>\n",
       "      <td>100652-3-0-0.wav</td>\n",
       "      <td>100652</td>\n",
       "      <td>0.000000</td>\n",
       "      <td>4.000000</td>\n",
       "      <td>1</td>\n",
       "      <td>2</td>\n",
       "      <td>3</td>\n",
       "      <td>dog_bark</td>\n",
       "    </tr>\n",
       "    <tr>\n",
       "      <th>15</th>\n",
       "      <td>100652-3-0-1.wav</td>\n",
       "      <td>100652</td>\n",
       "      <td>0.500000</td>\n",
       "      <td>4.500000</td>\n",
       "      <td>1</td>\n",
       "      <td>2</td>\n",
       "      <td>3</td>\n",
       "      <td>dog_bark</td>\n",
       "    </tr>\n",
       "    <tr>\n",
       "      <th>16</th>\n",
       "      <td>100652-3-0-2.wav</td>\n",
       "      <td>100652</td>\n",
       "      <td>1.000000</td>\n",
       "      <td>5.000000</td>\n",
       "      <td>1</td>\n",
       "      <td>2</td>\n",
       "      <td>3</td>\n",
       "      <td>dog_bark</td>\n",
       "    </tr>\n",
       "    <tr>\n",
       "      <th>17</th>\n",
       "      <td>100652-3-0-3.wav</td>\n",
       "      <td>100652</td>\n",
       "      <td>1.500000</td>\n",
       "      <td>5.500000</td>\n",
       "      <td>1</td>\n",
       "      <td>2</td>\n",
       "      <td>3</td>\n",
       "      <td>dog_bark</td>\n",
       "    </tr>\n",
       "    <tr>\n",
       "      <th>18</th>\n",
       "      <td>100795-3-0-0.wav</td>\n",
       "      <td>100795</td>\n",
       "      <td>0.191790</td>\n",
       "      <td>4.191790</td>\n",
       "      <td>1</td>\n",
       "      <td>10</td>\n",
       "      <td>3</td>\n",
       "      <td>dog_bark</td>\n",
       "    </tr>\n",
       "  </tbody>\n",
       "</table>\n",
       "</div>"
      ],
      "text/plain": [
       "     slice_file_name    fsID      start        end  salience  fold  classID  \\\n",
       "9   100648-1-0-0.wav  100648   4.823402   5.471927         2    10        1   \n",
       "10  100648-1-1-0.wav  100648   8.998279  10.052132         2    10        1   \n",
       "11  100648-1-2-0.wav  100648  16.699509  17.104837         2    10        1   \n",
       "12  100648-1-3-0.wav  100648  17.631764  19.253075         2    10        1   \n",
       "13  100648-1-4-0.wav  100648  25.332994  27.197502         2    10        1   \n",
       "14  100652-3-0-0.wav  100652   0.000000   4.000000         1     2        3   \n",
       "15  100652-3-0-1.wav  100652   0.500000   4.500000         1     2        3   \n",
       "16  100652-3-0-2.wav  100652   1.000000   5.000000         1     2        3   \n",
       "17  100652-3-0-3.wav  100652   1.500000   5.500000         1     2        3   \n",
       "18  100795-3-0-0.wav  100795   0.191790   4.191790         1    10        3   \n",
       "\n",
       "       class  \n",
       "9   car_horn  \n",
       "10  car_horn  \n",
       "11  car_horn  \n",
       "12  car_horn  \n",
       "13  car_horn  \n",
       "14  dog_bark  \n",
       "15  dog_bark  \n",
       "16  dog_bark  \n",
       "17  dog_bark  \n",
       "18  dog_bark  "
      ]
     },
     "execution_count": 7,
     "metadata": {},
     "output_type": "execute_result"
    }
   ],
   "source": [
    "df_train[:10]"
   ]
  },
  {
   "cell_type": "code",
   "execution_count": 20,
   "metadata": {},
   "outputs": [
    {
     "data": {
      "text/plain": [
       "count    8732.000000\n",
       "mean        3.607904\n",
       "std         0.973570\n",
       "min         0.054517\n",
       "25%         4.000000\n",
       "50%         4.000000\n",
       "75%         4.000000\n",
       "max         4.000000\n",
       "dtype: float64"
      ]
     },
     "execution_count": 20,
     "metadata": {},
     "output_type": "execute_result"
    }
   ],
   "source": [
    "(df.end - df.start).describe()"
   ]
  },
  {
   "cell_type": "markdown",
   "metadata": {},
   "source": [
    "## Check duplication with FSDKaggle2018"
   ]
  },
  {
   "cell_type": "code",
   "execution_count": 9,
   "metadata": {},
   "outputs": [],
   "source": [
    "fsd = pd.read_csv('~/.kaggle/competitions/freesound-audio-tagging/train_post_competition.csv')"
   ]
  },
  {
   "cell_type": "code",
   "execution_count": 17,
   "metadata": {},
   "outputs": [
    {
     "data": {
      "text/plain": [
       "array([ 5,  2, 10,  1,  4,  3,  8,  6,  9,  7])"
      ]
     },
     "execution_count": 17,
     "metadata": {},
     "output_type": "execute_result"
    }
   ],
   "source": [
    "usids = np.array(df.fsID.unique(), dtype=np.int)\n",
    "fsids = np.array(fsd.freesound_id.unique(), dtype=np.int)\n",
    "dup_ids = [uid for uid in usids if uid in fsids]\n",
    "df[df.fsID.isin(dup_ids)].fold.unique()"
   ]
  },
  {
   "cell_type": "code",
   "execution_count": null,
   "metadata": {
    "collapsed": true
   },
   "outputs": [],
   "source": []
  }
 ],
 "metadata": {
  "kernelspec": {
   "display_name": "Python 3",
   "language": "python",
   "name": "python3"
  },
  "language_info": {
   "codemirror_mode": {
    "name": "ipython",
    "version": 3
   },
   "file_extension": ".py",
   "mimetype": "text/x-python",
   "name": "python",
   "nbconvert_exporter": "python",
   "pygments_lexer": "ipython3",
   "version": "3.6.2"
  }
 },
 "nbformat": 4,
 "nbformat_minor": 2
}
